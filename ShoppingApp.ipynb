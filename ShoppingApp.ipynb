{
 "cells": [
  {
   "cell_type": "markdown",
   "id": "463a94f1-ab5a-42ed-8038-ebc7c2a1b8d8",
   "metadata": {},
   "source": [
    "# You have to develop a shopping application or e-commerce application which has login and public login features on the Python platform. The applications that have been developed should also include categories, such as 3–4 for footwear, clothing, electronics, etc. It should be possible to add and update categories in the application. Additionally, it must contain a feature that allows you to add or remove items from your cart. Finally, the program needs to support a variety of payment options, including UPI and debit cards. This should be only backend implementation, and UX/UI and database connectivity are not required."
   ]
  },
  {
   "cell_type": "code",
   "execution_count": 271,
   "id": "8608509e-79a1-4f90-a158-04f8fe727bc2",
   "metadata": {},
   "outputs": [],
   "source": [
    "# Initialization\n",
    "\n",
    "# User\n",
    "\n",
    "class User:\n",
    "    def __init__(self, username, password, isAdmin=False):\n",
    "        self.__username = username\n",
    "        self.__password = password\n",
    "        self.__isAdmin = isAdmin\n",
    "        self.__cart = Cart()\n",
    "        \n",
    "    def login(self, username, password):\n",
    "        return self.__username == username and self.__password == password\n",
    "\n",
    "    @property\n",
    "    def cart(self):\n",
    "        return self.__cart\n",
    "\n",
    "    @property\n",
    "    def isAdmin(self):\n",
    "        return self.__isAdmin\n",
    "\n",
    "    @property\n",
    "    def getUsername(self):\n",
    "        return self.__username"
   ]
  },
  {
   "cell_type": "code",
   "execution_count": 272,
   "id": "10f3bb0c-3064-40d2-b3f5-9bfe4007ae04",
   "metadata": {},
   "outputs": [],
   "source": [
    "# Category\n",
    "\n",
    "class Category:\n",
    "    def __init__(self, name):\n",
    "        self.__name = name\n",
    "        self.__items = []\n",
    "\n",
    "    def addItem(self, item):\n",
    "        self.__items.append(item)\n",
    "\n",
    "    def removeItem(self, itemName):\n",
    "        self.__items = [item for item in self.__items if item.name != itemName]\n",
    "\n",
    "    @property\n",
    "    def name(self):\n",
    "        return self.__name\n",
    "\n",
    "    @name.setter\n",
    "    def name(self, name):\n",
    "        self.__name = name\n",
    "\n",
    "    @property\n",
    "    def items(self):\n",
    "        return self.__items"
   ]
  },
  {
   "cell_type": "code",
   "execution_count": 273,
   "id": "db5b987a-8646-4ed6-831e-b5aeffeb8013",
   "metadata": {},
   "outputs": [],
   "source": [
    "# Item\n",
    "\n",
    "class Item:\n",
    "    def __init__(self, name, price, quantity):\n",
    "        self.__name = name\n",
    "        self.__price = price\n",
    "        self.__quantity = quantity\n",
    "\n",
    "    @property\n",
    "    def name(self):\n",
    "        return self.__name\n",
    "\n",
    "    @property\n",
    "    def price(self):\n",
    "        return self.__price\n",
    "\n",
    "    @property\n",
    "    def quantity(self):\n",
    "        return self.__quantity\n",
    "\n",
    "    def updateQuantity(self, quantity):\n",
    "        if quantity >= 0:\n",
    "            self.__quantity = quantity\n",
    "        else:\n",
    "            raise ValueError(\"Quantity cannot be negative\")"
   ]
  },
  {
   "cell_type": "code",
   "execution_count": 274,
   "id": "119470c5-d82f-40ba-90ab-e6be6bf263e8",
   "metadata": {},
   "outputs": [],
   "source": [
    "# Cart\n",
    "\n",
    "class Cart:\n",
    "    def __init__(self):\n",
    "        self.__items = {}\n",
    "    \n",
    "    def addItem(self, item, quantity):\n",
    "        if item.quantity >= quantity:\n",
    "            if item.name in self.__items:\n",
    "                self.__items[item.name]['quantity'] += quantity\n",
    "            else:\n",
    "                self.__items[item.name] = {'item': item, 'quantity': quantity}\n",
    "            item.updateQuantity(item.quantity - quantity)\n",
    "        else:\n",
    "            print(f\"Insufficient quantity for {item.name}\")\n",
    "\n",
    "    def removeItem(self, item_name, quantity):\n",
    "        if item_name in self.__items:\n",
    "            if self.__items[item_name]['quantity'] >= quantity:\n",
    "                self.__items[item_name]['quantity'] -= quantity\n",
    "                self.__items[item_name]['item'].updateQuantity(\n",
    "                    self.__items[item_name]['item'].quantity + quantity)\n",
    "                if self.__items[item_name]['quantity'] == 0:\n",
    "                    del self.__items[item_name]\n",
    "            else:\n",
    "                print(f\"Cannot remove {quantity} items. Only {self.__items[item_name]['quantity']} items in cart.\")\n",
    "        else:\n",
    "            print(f\"{item_name} not in cart\")\n",
    "\n",
    "    def getTotal(self):\n",
    "        return sum(item['item'].price * item['quantity'] for item in self.__items.values())\n",
    "\n",
    "    @property\n",
    "    def items(self):\n",
    "        return self.__items"
   ]
  },
  {
   "cell_type": "code",
   "execution_count": 275,
   "id": "2f95c0de-43ab-4baf-8baf-36a7787fa245",
   "metadata": {},
   "outputs": [],
   "source": [
    "# Payment\n",
    "\n",
    "class Payment:\n",
    "    @staticmethod\n",
    "    def process_payment(payment_method, amount):\n",
    "        if payment_method in ['UPI', 'Debit Card', 'PAYPAL']:\n",
    "            print(f\"Processing {payment_method} payment of amount: {amount}\")\n",
    "            return True\n",
    "        else:\n",
    "            print(\"Invalid payment method\")\n",
    "            return False"
   ]
  },
  {
   "cell_type": "code",
   "execution_count": 276,
   "id": "80f1014c-c079-4052-9356-27ff2a3e789b",
   "metadata": {},
   "outputs": [],
   "source": [
    "# Shopping App\n",
    "\n",
    "class ShoppingApp:\n",
    "    def __init__(self):\n",
    "        self.__users = []\n",
    "        self.__categories = []\n",
    "\n",
    "    def registerUser(self, username, password, isAdmin=False):\n",
    "        user = User(username, password, isAdmin)\n",
    "        self.__users.append(user)\n",
    "\n",
    "    def loginUser(self, username, password):\n",
    "        for user in self.__users:\n",
    "            if user.login(username, password):\n",
    "                return user\n",
    "        return None\n",
    "\n",
    "    def addCategory(self, category_name, user):\n",
    "        if user.isAdmin:\n",
    "            category = Category(category_name)\n",
    "            self.__categories.append(category)\n",
    "        else:\n",
    "            print(\"Permission denied: Only admins can add categories.\")\n",
    "\n",
    "    def updateCategory(self, oldCategoryName, newCategoryName, user):\n",
    "        if user.isAdmin:\n",
    "            for category in self.__categories:\n",
    "                if category.name == oldCategoryName:\n",
    "                    category.name = newCategoryName\n",
    "        else:\n",
    "            print(\"Permission denied: Only admins can update categories.\")\n",
    "\n",
    "    def addItemToCategory(self, category_name, item, user):\n",
    "        if user.isAdmin:\n",
    "            category = self.findCategory(category_name)\n",
    "            if category:\n",
    "                category.addItem(item)\n",
    "            else:\n",
    "                print(f\"Category {category_name} not found.\")\n",
    "        else:\n",
    "            print(\"Permission denied: Only admins can add items to categories.\")\n",
    "\n",
    "    def findCategory(self, category_name):\n",
    "        for category in self.__categories:\n",
    "            if category.name == category_name:\n",
    "                return category\n",
    "        return None\n",
    "\n",
    "    def printCategories(self):\n",
    "        print(f\"Total number of categories: {len(self.__categories)}\")\n",
    "        for category in self.__categories:\n",
    "            print(f\"Category: {category.name}\")\n",
    "            for item in category.items:\n",
    "                print(f\"  Item: {item.name}, Price: {item.price}, Quantity: {item.quantity}\")\n",
    "\n",
    "    def printItems(self):\n",
    "        total_items = 0  # Initialize total items counter\n",
    "\n",
    "        # Count total items first\n",
    "        for category in self.__categories:\n",
    "            for item in category.items:\n",
    "                total_items += 1\n",
    "\n",
    "        # Print total number of items\n",
    "        print(f\"Total number of items in all categories: {total_items}\")\n",
    "\n",
    "        # Print items details\n",
    "        for category in self.__categories:\n",
    "            for item in category.items:\n",
    "                print(f\"Category: {category.name}, Item: {item.name}, Price: {item.price}, Quantity: {item.quantity}\")\n",
    "                \n",
    "    @property\n",
    "    def categories(self):\n",
    "        return self.__categories"
   ]
  },
  {
   "cell_type": "code",
   "execution_count": 277,
   "id": "838201e5-9927-43de-878f-a5d54c72cf17",
   "metadata": {},
   "outputs": [],
   "source": [
    "# Use ShoppingApp\n",
    "app = ShoppingApp()"
   ]
  },
  {
   "cell_type": "code",
   "execution_count": 278,
   "id": "4456e444-dd9e-41f5-b56b-a17588768432",
   "metadata": {},
   "outputs": [],
   "source": [
    "# Register Users\n",
    "app.registerUser(\"admin\", \"adminpass\", isAdmin=True)\n",
    "app.registerUser(\"user1\", \"userpass\")"
   ]
  },
  {
   "cell_type": "code",
   "execution_count": 279,
   "id": "2e3d5ddd-26ee-42fd-b727-00e6f13c3bdd",
   "metadata": {},
   "outputs": [
    {
     "name": "stdout",
     "output_type": "stream",
     "text": [
      "Invalid Login Credentials\n"
     ]
    }
   ],
   "source": [
    "# Login as Admin with wrong password\n",
    "adminUser = app.loginUser(\"admin\", \"admin\")\n",
    "if adminUser:\n",
    "    print(\"Admin logged in\")\n",
    "else:\n",
    "    print(\"Invalid Login Credentials\")"
   ]
  },
  {
   "cell_type": "code",
   "execution_count": 280,
   "id": "ee1ed119-a96d-438a-93c8-09f6a8ead27f",
   "metadata": {},
   "outputs": [
    {
     "name": "stdout",
     "output_type": "stream",
     "text": [
      "Invalid Login Credentials\n"
     ]
    }
   ],
   "source": [
    "# Login as Admin with wrong username\n",
    "adminUser = app.loginUser(\"admin123\", \"admin\")\n",
    "if adminUser:\n",
    "    print(\"Admin logged in\")\n",
    "else:\n",
    "    print(\"Invalid Login Credentials\")"
   ]
  },
  {
   "cell_type": "code",
   "execution_count": 281,
   "id": "a366b3b7-66f5-4b75-a4d2-04517e3302ce",
   "metadata": {},
   "outputs": [
    {
     "name": "stdout",
     "output_type": "stream",
     "text": [
      "Admin logged in\n"
     ]
    }
   ],
   "source": [
    "# Login as Admin \n",
    "adminUser = app.loginUser(\"admin\", \"adminpass\")\n",
    "if adminUser:\n",
    "    print(\"Admin logged in\")\n",
    "else:\n",
    "    print(\"Invalid Login Credentials\")"
   ]
  },
  {
   "cell_type": "code",
   "execution_count": 282,
   "id": "6146f9db-6fcb-4e91-ab6b-89784d120faa",
   "metadata": {},
   "outputs": [
    {
     "name": "stdout",
     "output_type": "stream",
     "text": [
      "Total number of categories: 3\n",
      "Category: Footwear\n",
      "Category: Clothing\n",
      "Category: Electronics\n"
     ]
    }
   ],
   "source": [
    "# Admin adds categories\n",
    "if (adminUser):\n",
    "    app.addCategory(\"Footwear\", adminUser)\n",
    "    app.addCategory(\"Clothing\", adminUser)\n",
    "    app.addCategory(\"Electronics\", adminUser)\n",
    "\n",
    "# Check Category\n",
    "app.printCategories()"
   ]
  },
  {
   "cell_type": "code",
   "execution_count": 283,
   "id": "c3c863e6-db68-4813-8c17-52bdeec14e82",
   "metadata": {},
   "outputs": [
    {
     "name": "stdout",
     "output_type": "stream",
     "text": [
      "Total number of items in all categories: 4\n",
      "Category: Footwear, Item: Sneakers, Price: 50, Quantity: 10\n",
      "Category: Footwear, Item: Boots, Price: 80, Quantity: 5\n",
      "Category: Clothing, Item: T-Shirt, Price: 20, Quantity: 50\n",
      "Category: Clothing, Item: Jeans, Price: 40, Quantity: 30\n"
     ]
    }
   ],
   "source": [
    "# Admin adds items to categories\n",
    "if (adminUser):\n",
    "    app.addItemToCategory(\"Footwear\", Item(\"Sneakers\", 50, 10), adminUser)\n",
    "    app.addItemToCategory(\"Footwear\", Item(\"Boots\", 80, 5), adminUser)\n",
    "    app.addItemToCategory(\"Clothing\", Item(\"T-Shirt\", 20, 50), adminUser)\n",
    "    app.addItemToCategory(\"Clothing\", Item(\"Jeans\", 40, 30), adminUser)\n",
    "    \n",
    "# Check Items\n",
    "app.printItems()"
   ]
  },
  {
   "cell_type": "code",
   "execution_count": 284,
   "id": "6e7826d6-c726-4e3c-bf6c-8ae3c03e114e",
   "metadata": {},
   "outputs": [
    {
     "name": "stdout",
     "output_type": "stream",
     "text": [
      "Invalid Login Credentials\n"
     ]
    }
   ],
   "source": [
    "# Login as Regular User with wrong password\n",
    "user = app.loginUser(\"user1\", \"user1\")\n",
    "if user:\n",
    "    print(f\"Regular User {user.getUsername} logged in\")\n",
    "else:\n",
    "    print(\"Invalid Login Credentials\")"
   ]
  },
  {
   "cell_type": "code",
   "execution_count": 285,
   "id": "fe660ddb-1d97-41f5-84f9-54d403cd3499",
   "metadata": {},
   "outputs": [
    {
     "name": "stdout",
     "output_type": "stream",
     "text": [
      "Invalid Login Credentials\n"
     ]
    }
   ],
   "source": [
    "# Login as Regular User with wrong username\n",
    "user = app.loginUser(\"user123\", \"user1\")\n",
    "if user:\n",
    "    print(f\"Regular User {user.getUsername} logged in\")\n",
    "else:\n",
    "    print(\"Invalid Login Credentials\")"
   ]
  },
  {
   "cell_type": "code",
   "execution_count": 286,
   "id": "f5a52b61-fe3b-4996-9a57-847c145757ad",
   "metadata": {},
   "outputs": [
    {
     "name": "stdout",
     "output_type": "stream",
     "text": [
      "Regular User <user1> logged in\n"
     ]
    }
   ],
   "source": [
    "# Login as Regular User \n",
    "user = app.loginUser(\"user1\", \"userpass\")\n",
    "if user:\n",
    "    print(f\"Regular User <{user.getUsername}> logged in\")\n",
    "else:\n",
    "    print(\"Invalid Login Credentials\")"
   ]
  },
  {
   "cell_type": "code",
   "execution_count": 287,
   "id": "189c85fb-5ea8-4c24-ba43-9ba203c80261",
   "metadata": {},
   "outputs": [
    {
     "name": "stdout",
     "output_type": "stream",
     "text": [
      "Permission denied: Only admins can add categories.\n"
     ]
    }
   ],
   "source": [
    "# User tries to add a category (should fail)\n",
    "if (user):\n",
    "    app.addCategory(\"Toys\", user)"
   ]
  },
  {
   "cell_type": "code",
   "execution_count": 288,
   "id": "29c92d7a-c73c-468c-98ca-e78b3fdea595",
   "metadata": {},
   "outputs": [
    {
     "name": "stdout",
     "output_type": "stream",
     "text": [
      "Permission denied: Only admins can add items to categories.\n"
     ]
    }
   ],
   "source": [
    "# User tries to add items to category (should fail)\n",
    "if (user):\n",
    "    app.addItemToCategory(\"Electronics\", Item(\"IPad Pro M4\", 2000, 100_000), user)"
   ]
  },
  {
   "cell_type": "code",
   "execution_count": 289,
   "id": "2883e2db-5f78-4249-8b31-fc880460dd80",
   "metadata": {},
   "outputs": [],
   "source": [
    "# User adds items to cart\n",
    "if (user):\n",
    "    footwearCategory = app.findCategory(\"Footwear\")\n",
    "    sneakers = next(item for item in footwearCategory.items if item.name == \"Sneakers\")\n",
    "    user.cart.addItem(sneakers, 2)\n",
    "    tshirtCategory = app.findCategory(\"Clothing\")\n",
    "    tshirt = next(item for item in tshirtCategory.items if item.name == \"T-Shirt\")\n",
    "    user.cart.addItem(tshirt, 3)"
   ]
  },
  {
   "cell_type": "code",
   "execution_count": 290,
   "id": "3df1271e-900a-4ac2-8592-5ced3920b029",
   "metadata": {},
   "outputs": [
    {
     "name": "stdout",
     "output_type": "stream",
     "text": [
      "Cart Total: 160\n"
     ]
    }
   ],
   "source": [
    "# View Cart Total\n",
    "print(\"Cart Total:\", user.cart.getTotal())\n",
    "\n",
    "# Initialize current states as dictionaries\n",
    "currentState = {}\n",
    "\n",
    "# Capture current state after payment\n",
    "for category in app.categories:\n",
    "    currentState[category.name] = category.items"
   ]
  },
  {
   "cell_type": "code",
   "execution_count": 291,
   "id": "3418dfd8-ff28-406a-9919-49ee472b8488",
   "metadata": {},
   "outputs": [],
   "source": [
    "# Remove items from cart\n",
    "user.cart.removeItem(\"Sneakers\", 1)\n",
    "user.cart.removeItem(\"T-Shirt\", 2)"
   ]
  },
  {
   "cell_type": "code",
   "execution_count": 292,
   "id": "2ad4551e-5a0d-4524-a29e-7ee063654210",
   "metadata": {},
   "outputs": [
    {
     "name": "stdout",
     "output_type": "stream",
     "text": [
      "Updated Cart Total: 70\n"
     ]
    }
   ],
   "source": [
    "# View Cart Total (Updated Cart)\n",
    "print(\"Updated Cart Total:\", user.cart.getTotal())"
   ]
  },
  {
   "cell_type": "code",
   "execution_count": 293,
   "id": "d2896b76-1a97-46a5-a6dc-0d1a54f34c77",
   "metadata": {},
   "outputs": [
    {
     "name": "stdout",
     "output_type": "stream",
     "text": [
      "Processing PAYPAL payment of amount: 70\n"
     ]
    },
    {
     "data": {
      "text/plain": [
       "True"
      ]
     },
     "execution_count": 293,
     "metadata": {},
     "output_type": "execute_result"
    }
   ],
   "source": [
    "# Process Payment\n",
    "Payment.process_payment(\"PAYPAL\", user.cart.getTotal())"
   ]
  },
  {
   "cell_type": "code",
   "execution_count": 294,
   "id": "0b36d294-586e-460b-a4bd-16dbc271eaa8",
   "metadata": {},
   "outputs": [
    {
     "name": "stdout",
     "output_type": "stream",
     "text": [
      "Total number of categories: 3\n",
      "Category: Footwear\n",
      "  Item: Sneakers, Price: 50, Quantity: 9\n",
      "  Item: Boots, Price: 80, Quantity: 5\n",
      "Category: Clothing\n",
      "  Item: T-Shirt, Price: 20, Quantity: 49\n",
      "  Item: Jeans, Price: 40, Quantity: 30\n",
      "Category: Electronics\n"
     ]
    }
   ],
   "source": [
    "# Print all categories and their items (After user purchase is completed)\n",
    "app.printCategories()"
   ]
  }
 ],
 "metadata": {
  "kernelspec": {
   "display_name": "Python 3 (ipykernel)",
   "language": "python",
   "name": "python3"
  },
  "language_info": {
   "codemirror_mode": {
    "name": "ipython",
    "version": 3
   },
   "file_extension": ".py",
   "mimetype": "text/x-python",
   "name": "python",
   "nbconvert_exporter": "python",
   "pygments_lexer": "ipython3",
   "version": "3.11.7"
  }
 },
 "nbformat": 4,
 "nbformat_minor": 5
}
